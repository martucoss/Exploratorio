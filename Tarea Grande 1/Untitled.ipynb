{
 "cells": [
  {
   "cell_type": "code",
   "execution_count": 83,
   "metadata": {},
   "outputs": [],
   "source": [
    "import scipy\n",
    "from scipy import stats\n",
    "import pandas as pd\n",
    "import numpy as np\n",
    "from matplotlib import pyplot as plt\n",
    "from matplotlib import pylab\n",
    "import datetime as datetime"
   ]
  },
  {
   "cell_type": "code",
   "execution_count": 84,
   "metadata": {},
   "outputs": [],
   "source": [
    "dataset=pd.read_csv(\"dataset_final.csv\")"
   ]
  },
  {
   "cell_type": "code",
   "execution_count": 85,
   "metadata": {},
   "outputs": [],
   "source": [
    "dataset2=pd.read_csv(\"artists_genres_images.csv\")"
   ]
  },
  {
   "cell_type": "code",
   "execution_count": 86,
   "metadata": {},
   "outputs": [
    {
     "data": {
      "text/plain": [
       "Index(['Date', 'Track', 'Artist', 'Album'], dtype='object')"
      ]
     },
     "execution_count": 86,
     "metadata": {},
     "output_type": "execute_result"
    }
   ],
   "source": [
    "dataset.columns"
   ]
  },
  {
   "cell_type": "code",
   "execution_count": 87,
   "metadata": {},
   "outputs": [
    {
     "data": {
      "text/plain": [
       "Index(['Artist', 'Genre', 'Image_Link'], dtype='object')"
      ]
     },
     "execution_count": 87,
     "metadata": {},
     "output_type": "execute_result"
    }
   ],
   "source": [
    "dataset2.columns"
   ]
  },
  {
   "cell_type": "code",
   "execution_count": 88,
   "metadata": {},
   "outputs": [],
   "source": [
    "dataset['Date']=pd.to_datetime(dataset['Date'],unit='s')"
   ]
  },
  {
   "cell_type": "code",
   "execution_count": 89,
   "metadata": {},
   "outputs": [
    {
     "data": {
      "text/plain": [
       "<matplotlib.axes._subplots.AxesSubplot at 0x1cd55e92b00>"
      ]
     },
     "execution_count": 89,
     "metadata": {},
     "output_type": "execute_result"
    },
    {
     "data": {
      "image/png": "[encoded data removed]",
      "text/plain": [
       "<Figure size 432x288 with 1 Axes>"
      ]
     },
     "metadata": {},
     "output_type": "display_data"
    }
   ],
   "source": [
    "dataset.groupby([\"Track\"]).count()[\"Artist\"].sort_values(ascending=False)[0:10].plot(kind='bar')"
   ]
  },
  {
   "cell_type": "code",
   "execution_count": 90,
   "metadata": {},
   "outputs": [],
   "source": [
    "artistasescuchados=dataset.groupby([\"Artist\"]).count()[\"Date\"].sort_values(ascending=False)[0:5]"
   ]
  },
  {
   "cell_type": "code",
   "execution_count": 91,
   "metadata": {},
   "outputs": [],
   "source": [
    "nn1=[]\n",
    "nn2=[]\n",
    "nn3=[]"
   ]
  },
  {
   "cell_type": "code",
   "execution_count": 92,
   "metadata": {},
   "outputs": [],
   "source": [
    "artistass=artistasescuchados.index"
   ]
  },
  {
   "cell_type": "code",
   "execution_count": 93,
   "metadata": {},
   "outputs": [],
   "source": [
    "for i in range(0,5):\n",
    "    nnn=artistasescuchados[i]\n",
    "    nn1.append(nnn)\n",
    "for j in range(0,5):\n",
    "    nnn=artistass[j]\n",
    "    nn2.append(nnn)"
   ]
  },
  {
   "cell_type": "code",
   "execution_count": 94,
   "metadata": {},
   "outputs": [],
   "source": [
    "for i in range(0,5):\n",
    "    nnn=dataset2[dataset2[\"Artist\"]==artistass[i]]\n",
    "    nn3.append(nnn[\"Image_Link\"])"
   ]
  },
  {
   "cell_type": "code",
   "execution_count": 95,
   "metadata": {},
   "outputs": [],
   "source": [
    "Nuevo={'Artista_escuchado':nn2,'Veces_escuchado':nn1,'imagen_artista':nn3}"
   ]
  },
  {
   "cell_type": "code",
   "execution_count": 96,
   "metadata": {},
   "outputs": [],
   "source": [
    "New=pd.DataFrame(Nuevo,columns=['Artista_escuchado','Veces_escuchado','imagen_artista'])"
   ]
  },
  {
   "cell_type": "code",
   "execution_count": 97,
   "metadata": {},
   "outputs": [],
   "source": [
    "New.to_csv('Artistas_escuchados.csv')"
   ]
  },
  {
   "cell_type": "code",
   "execution_count": 98,
   "metadata": {},
   "outputs": [],
   "source": [
    "artistas_tracks=dataset.groupby([\"Artist\"]).count()[\"Date\"]"
   ]
  },
  {
   "cell_type": "code",
   "execution_count": 99,
   "metadata": {
    "scrolled": true
   },
   "outputs": [
    {
     "data": {
      "text/plain": [
       "1"
      ]
     },
     "execution_count": 99,
     "metadata": {},
     "output_type": "execute_result"
    }
   ],
   "source": [
    "artistas_tracks[0]"
   ]
  },
  {
   "cell_type": "code",
   "execution_count": 100,
   "metadata": {},
   "outputs": [],
   "source": [
    "lista=[]\n",
    "lista2=[]\n",
    "lista3=[]"
   ]
  },
  {
   "cell_type": "code",
   "execution_count": 101,
   "metadata": {},
   "outputs": [],
   "source": [
    "artistastrack=artistas_tracks.index\n"
   ]
  },
  {
   "cell_type": "code",
   "execution_count": 102,
   "metadata": {},
   "outputs": [],
   "source": [
    "b=len(dataset2)"
   ]
  },
  {
   "cell_type": "code",
   "execution_count": 103,
   "metadata": {},
   "outputs": [],
   "source": [
    "for i in range(0,b):\n",
    "    q=artistastrack[i]\n",
    "    lista.append(q)\n",
    "    w=artistas_tracks[i]\n",
    "    lista2.append(w)"
   ]
  },
  {
   "cell_type": "code",
   "execution_count": 104,
   "metadata": {},
   "outputs": [],
   "source": [
    "Nuevo1={'Veces':lista2}"
   ]
  },
  {
   "cell_type": "code",
   "execution_count": 105,
   "metadata": {},
   "outputs": [],
   "source": [
    "New1=pd.DataFrame(Nuevo1,columns=['Veces'])"
   ]
  },
  {
   "cell_type": "code",
   "execution_count": 106,
   "metadata": {},
   "outputs": [],
   "source": [
    "for i in range(0,b):\n",
    "    aa=dataset2[dataset2[\"Artist\"]==lista[i]]"
   ]
  },
  {
   "cell_type": "code",
   "execution_count": 107,
   "metadata": {},
   "outputs": [],
   "source": [
    "dataset3=pd.concat([New1,dataset2],axis=1)"
   ]
  },
  {
   "cell_type": "code",
   "execution_count": 108,
   "metadata": {},
   "outputs": [
    {
     "data": {
      "text/plain": [
       "<matplotlib.axes._subplots.AxesSubplot at 0x1cd54b4a4e0>"
      ]
     },
     "execution_count": 108,
     "metadata": {},
     "output_type": "execute_result"
    },
    {
     "data": {
      "image/png": "[encoded data removed]",
      "text/plain": [
       "<Figure size 432x288 with 1 Axes>"
      ]
     },
     "metadata": {},
     "output_type": "display_data"
    }
   ],
   "source": [
    "dataset3.groupby('Genre')['Veces'].sum().sort_values(ascending=False)[0:10].plot(kind='pie',autopct='%.2f')"
   ]
  },
  {
   "cell_type": "code",
   "execution_count": 109,
   "metadata": {},
   "outputs": [],
   "source": [
    "listasss=[]\n",
    "for i in range(0,len(ddf)):\n",
    "    jaja=str(ddf[i])\n",
    "    jaja=jaja[:7]\n",
    "    listasss.append(jaja)"
   ]
  },
  {
   "cell_type": "code",
   "execution_count": 110,
   "metadata": {},
   "outputs": [],
   "source": [
    "a20183=listasss.count('2018-03')\n",
    "a20182=listasss.count('2018-02')\n",
    "a20181=listasss.count('2018-01')\n",
    "a201712=listasss.count('2017-12')\n",
    "a201711=listasss.count('2017-11')\n",
    "a201710=listasss.count('2017-10')\n",
    "a20179=listasss.count('2017-09')\n",
    "a20178=listasss.count('2017-08')\n",
    "a20177=listasss.count('2017-07')\n",
    "a20176=listasss.count('2017-06')\n",
    "a20175=listasss.count('2017-05')\n",
    "a20174=listasss.count('2017-04')\n",
    "a20173=listasss.count('2017-03')\n",
    "a20172=listasss.count('2017-02')\n",
    "a20171=listasss.count('2017-01')"
   ]
  },
  {
   "cell_type": "code",
   "execution_count": 111,
   "metadata": {},
   "outputs": [],
   "source": [
    "a=[a20183,a20182,a20181,a201712,a201711,a201710,a20179,a20178,a20177,a20176,a20175,a20174,a20173,a20172,a20171]\n",
    "a=a[::-1]\n",
    "b=[\"Ene17\",\"Feb17\",\"Mar17\",\"Abr17\",\"May17\",\"Jun17\",\"Jul17\",\"Ago17\",\"Sep17\",\"Oct17\",\"Nov17\",\"Dic17\",\"Ene18\",\"Feb18\",\"Mar18\"]"
   ]
  },
  {
   "cell_type": "code",
   "execution_count": 112,
   "metadata": {
    "scrolled": true
   },
   "outputs": [
    {
     "data": {
      "text/plain": [
       "[<matplotlib.lines.Line2D at 0x1cd55e918d0>]"
      ]
     },
     "execution_count": 112,
     "metadata": {},
     "output_type": "execute_result"
    },
    {
     "data": {
      "image/png": "[encoded data removed]",
      "text/plain": [
       "<Figure size 720x720 with 1 Axes>"
      ]
     },
     "metadata": {},
     "output_type": "display_data"
    }
   ],
   "source": [
    "plt.figure(figsize=(10,10))\n",
    "plt.plot(b,a)"
   ]
  },
  {
   "cell_type": "code",
   "execution_count": 113,
   "metadata": {},
   "outputs": [],
   "source": [
    "lista11=[]\n",
    "for i in range(0,len(ddf)):\n",
    "    jeje=str(ddf[i])\n",
    "    jeje=jeje[11:13]\n",
    "    lista11.append(jeje)"
   ]
  },
  {
   "cell_type": "code",
   "execution_count": 114,
   "metadata": {},
   "outputs": [],
   "source": [
    "h00=lista11.count('00')\n",
    "h01=lista11.count('01')\n",
    "h02=lista11.count('02')\n",
    "h03=lista11.count('03')\n",
    "h04=lista11.count('04')\n",
    "h05=lista11.count('05')\n",
    "h06=lista11.count('06')\n",
    "h07=lista11.count('07')\n",
    "h08=lista11.count('08')\n",
    "h09=lista11.count('09')\n",
    "h10=lista11.count('10')\n",
    "h11=lista11.count('11')\n",
    "h12=lista11.count('12')\n",
    "h13=lista11.count('13')\n",
    "h14=lista11.count('14')\n",
    "h15=lista11.count('15')\n",
    "h16=lista11.count('16')\n",
    "h17=lista11.count('17')\n",
    "h18=lista11.count('18')\n",
    "h19=lista11.count('19')\n",
    "h20=lista11.count('20')\n",
    "h21=lista11.count('21')\n",
    "h22=lista11.count('22')\n",
    "h23=lista11.count('23')"
   ]
  },
  {
   "cell_type": "code",
   "execution_count": 115,
   "metadata": {},
   "outputs": [],
   "source": [
    "ha=[h00,h01,h02,h03,h04,h05,h06,h07,h08,h09,h10,h11,h12,h13,h14,h15,h16,h17,h18,h19,h20,h21,h22,h23]\n",
    "hb=[\"00\",\"01\",\"02\",\"03\",\"04\",\"05\",\"06\",\"07\",\"08\",\"09\",\"10\",\"11\",\"12\",\"13\",\"14\",\"15\",\"16\",\"17\",\"18\",\"19\",\"20\",\"21\",\"22\",\"23\"]"
   ]
  },
  {
   "cell_type": "code",
   "execution_count": 116,
   "metadata": {},
   "outputs": [],
   "source": [
    "hh= {'horas': hb, 'rph': ha}\n",
    "hab=pd.DataFrame(hh,columns=['horas','rph'])"
   ]
  },
  {
   "cell_type": "code",
   "execution_count": 117,
   "metadata": {},
   "outputs": [
    {
     "data": {
      "text/plain": [
       "<matplotlib.axes._subplots.AxesSubplot at 0x1cd54b039e8>"
      ]
     },
     "execution_count": 117,
     "metadata": {},
     "output_type": "execute_result"
    },
    {
     "data": {
      "image/png": "[encoded data removed]",
      "text/plain": [
       "<Figure size 432x288 with 1 Axes>"
      ]
     },
     "metadata": {},
     "output_type": "display_data"
    }
   ],
   "source": [
    "hab.plot(kind='bar')"
   ]
  }
 ],
 "metadata": {
  "kernelspec": {
   "display_name": "Python 3",
   "language": "python",
   "name": "python3"
  },
  "language_info": {
   "codemirror_mode": {
    "name": "ipython",
    "version": 3
   },
   "file_extension": ".py",
   "mimetype": "text/x-python",
   "name": "python",
   "nbconvert_exporter": "python",
   "pygments_lexer": "ipython3",
   "version": "3.5.4rc1"
  }
 },
 "nbformat": 4,
 "nbformat_minor": 2
}
